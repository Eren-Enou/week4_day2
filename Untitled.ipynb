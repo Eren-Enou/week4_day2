{
 "cells": [
  {
   "cell_type": "code",
   "execution_count": 8,
   "id": "a1c82c01",
   "metadata": {},
   "outputs": [
    {
     "name": "stdout",
     "output_type": "stream",
     "text": [
      "\n"
     ]
    }
   ],
   "source": [
    "# Complete the solution so that the function will break up camel casing, using a space between words. The function will return a new string.\n",
    "\n",
    "# \"camelCasing\" = >  \"camel Casing\"\n",
    "# \"uncamelThisCamel\" = >  \"uncamel This Camel\"\n",
    "# \"helloWorld\" = >  \"hello World\"\n",
    "# \"identifier\" = >  \"identifier\"\n",
    "# \"\" = >  \"\"\n",
    "\n",
    "#split the phrases\n",
    "#append \" \"\n",
    "#if theres only one word dont append\n",
    "\n",
    "def solution(str):\n",
    "    new_word = \"\"\n",
    "    for letter in str:\n",
    "        if letter.isupper():\n",
    "            new_word + \" \"\n",
    "        new_word + letter\n",
    "    return new_word\n",
    "print(solution(\"camelCasing\"))\n"
   ]
  },
  {
   "cell_type": "code",
   "execution_count": null,
   "id": "43f6fc6b",
   "metadata": {},
   "outputs": [],
   "source": []
  },
  {
   "cell_type": "code",
   "execution_count": null,
   "id": "8fc90f62",
   "metadata": {},
   "outputs": [],
   "source": []
  }
 ],
 "metadata": {
  "kernelspec": {
   "display_name": "Python 3 (ipykernel)",
   "language": "python",
   "name": "python3"
  },
  "language_info": {
   "codemirror_mode": {
    "name": "ipython",
    "version": 3
   },
   "file_extension": ".py",
   "mimetype": "text/x-python",
   "name": "python",
   "nbconvert_exporter": "python",
   "pygments_lexer": "ipython3",
   "version": "3.9.13"
  }
 },
 "nbformat": 4,
 "nbformat_minor": 5
}
